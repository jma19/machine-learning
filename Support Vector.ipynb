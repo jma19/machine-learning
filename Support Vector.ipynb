{
 "cells": [
  {
   "cell_type": "markdown",
   "metadata": {},
   "source": [
    "## What's SVM  \n",
    "\n",
    "1. **SVMs maximize the margin around the separating hyperplane**\n",
    "2. **The decision function is fully specified by the support vectors**\n",
    "3. **Support vectors are the elements of the training set that would change the position of the dividing hyper plane if removed**\n",
    "4. **Vector w=[w1 w2 ...] is perpendicular to the boundaries**\n",
    "\n",
    "<img src=\"./sv1.png\" width = \"300\" height = \"200\" alt=\"sv1\" align=left />\n",
    "<img src=\"./sv2.png\" width = \"500\" height = \"400\" alt=\"sv1\" align=left />\n"
   ]
  },
  {
   "cell_type": "markdown",
   "metadata": {},
   "source": [
    "## maximax the margine\n",
    "<img src=\"./sv3.png\" width = \"400\" height = \"400\" alt=\"sv1\" align=left />\n",
    "<img src=\"./sv5.png\" width = \"400\" height = \"400\" alt=\"sv1\" align=left />"
   ]
  },
  {
   "cell_type": "markdown",
   "metadata": {},
   "source": [
    "<img src=\"./sv6.png\" width = \"400\" height = \"400\" alt=\"sv1\" align=left />\n",
    "<img src=\"./sv7.png\" width = \"400\" height = \"400\" alt=\"sv1\" align=left />\n",
    "<img src=\"./sv8.png\" width = \"400\" height = \"400\" alt=\"sv1\" align=left />\n",
    "\n",
    "derivatives(w) = 0, replace w using a, x, y to reduce the unknown elements. what's more, in order to get Maximum value \n",
    "b is zero "
   ]
  },
  {
   "cell_type": "code",
   "execution_count": null,
   "metadata": {
    "collapsed": true
   },
   "outputs": [],
   "source": []
  },
  {
   "cell_type": "code",
   "execution_count": null,
   "metadata": {
    "collapsed": true
   },
   "outputs": [],
   "source": []
  }
 ],
 "metadata": {
  "kernelspec": {
   "display_name": "Python 2",
   "language": "python",
   "name": "python2"
  },
  "language_info": {
   "codemirror_mode": {
    "name": "ipython",
    "version": 2
   },
   "file_extension": ".py",
   "mimetype": "text/x-python",
   "name": "python",
   "nbconvert_exporter": "python",
   "pygments_lexer": "ipython2",
   "version": "2.7.12"
  }
 },
 "nbformat": 4,
 "nbformat_minor": 1
}
